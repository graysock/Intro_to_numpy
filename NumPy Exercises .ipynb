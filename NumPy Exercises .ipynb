{
 "cells": [
  {
   "cell_type": "markdown",
   "id": "8b84e6f4",
   "metadata": {},
   "source": [
    "## NumPy practice round 2"
   ]
  },
  {
   "cell_type": "code",
   "execution_count": 4,
   "id": "9e404b0e",
   "metadata": {},
   "outputs": [],
   "source": [
    "import numpy as np"
   ]
  },
  {
   "cell_type": "code",
   "execution_count": 6,
   "id": "32060291",
   "metadata": {},
   "outputs": [],
   "source": [
    "a1 = np.array([1,2,3])"
   ]
  },
  {
   "cell_type": "code",
   "execution_count": 7,
   "id": "b276b338",
   "metadata": {},
   "outputs": [
    {
     "data": {
      "text/plain": [
       "array([1, 2, 3])"
      ]
     },
     "execution_count": 7,
     "metadata": {},
     "output_type": "execute_result"
    }
   ],
   "source": [
    "a1"
   ]
  },
  {
   "cell_type": "code",
   "execution_count": 13,
   "id": "4e5fec59",
   "metadata": {},
   "outputs": [
    {
     "data": {
      "text/plain": [
       "array([[1, 2, 3],\n",
       "       [4, 5, 6]])"
      ]
     },
     "execution_count": 13,
     "metadata": {},
     "output_type": "execute_result"
    }
   ],
   "source": [
    "a2 = np.array([[1,2,3],\n",
    "             [4,5,6]])\n",
    "a2"
   ]
  },
  {
   "cell_type": "code",
   "execution_count": 15,
   "id": "5b192d72",
   "metadata": {},
   "outputs": [
    {
     "data": {
      "text/plain": [
       "(2, 3)"
      ]
     },
     "execution_count": 15,
     "metadata": {},
     "output_type": "execute_result"
    }
   ],
   "source": [
    "a2.shape"
   ]
  },
  {
   "cell_type": "code",
   "execution_count": 32,
   "id": "69a60384",
   "metadata": {},
   "outputs": [],
   "source": [
    "a3 = np.array([[[1,2,3],\n",
    "               [4,5,6],\n",
    "              [7,8,9]],\n",
    "              [[10,11,12],\n",
    "               [13,14,15],\n",
    "               [16,17,18]]])\n",
    "\n",
    "a4 = np.array([[[1, 2, 3],\n",
    "                [4, 5, 6],\n",
    "                [7, 8, 9]],\n",
    "                [[10, 11, 12],\n",
    "                 [13, 14, 15],\n",
    "                 [16, 17, 18]]])"
   ]
  },
  {
   "cell_type": "code",
   "execution_count": 33,
   "id": "a7fc6fd9",
   "metadata": {},
   "outputs": [
    {
     "data": {
      "text/plain": [
       "array([[[ 1,  2,  3],\n",
       "        [ 4,  5,  6],\n",
       "        [ 7,  8,  9]],\n",
       "\n",
       "       [[10, 11, 12],\n",
       "        [13, 14, 15],\n",
       "        [16, 17, 18]]])"
      ]
     },
     "execution_count": 33,
     "metadata": {},
     "output_type": "execute_result"
    }
   ],
   "source": [
    "a3"
   ]
  },
  {
   "cell_type": "code",
   "execution_count": 34,
   "id": "e3444ded",
   "metadata": {},
   "outputs": [
    {
     "data": {
      "text/plain": [
       "array([[[ 1,  2,  3],\n",
       "        [ 4,  5,  6],\n",
       "        [ 7,  8,  9]],\n",
       "\n",
       "       [[10, 11, 12],\n",
       "        [13, 14, 15],\n",
       "        [16, 17, 18]]])"
      ]
     },
     "execution_count": 34,
     "metadata": {},
     "output_type": "execute_result"
    }
   ],
   "source": [
    "a4"
   ]
  },
  {
   "cell_type": "code",
   "execution_count": 36,
   "id": "b603c922",
   "metadata": {},
   "outputs": [
    {
     "data": {
      "text/plain": [
       "((3,), dtype('int64'), 1, 3)"
      ]
     },
     "execution_count": 36,
     "metadata": {},
     "output_type": "execute_result"
    }
   ],
   "source": [
    "a1.shape, a1.dtype, a1.ndim, a1.size"
   ]
  },
  {
   "cell_type": "code",
   "execution_count": 37,
   "id": "a180e882",
   "metadata": {},
   "outputs": [
    {
     "data": {
      "text/plain": [
       "((2, 3), dtype('int64'), 2, 6)"
      ]
     },
     "execution_count": 37,
     "metadata": {},
     "output_type": "execute_result"
    }
   ],
   "source": [
    "a2.shape, a2.dtype, a2.ndim,a2.size"
   ]
  },
  {
   "cell_type": "code",
   "execution_count": 38,
   "id": "4f724e14",
   "metadata": {},
   "outputs": [
    {
     "data": {
      "text/plain": [
       "((2, 3, 3), dtype('int64'), 3, 18)"
      ]
     },
     "execution_count": 38,
     "metadata": {},
     "output_type": "execute_result"
    }
   ],
   "source": [
    "a3.shape, a3.dtype, a3.ndim, a3.size"
   ]
  },
  {
   "cell_type": "code",
   "execution_count": 39,
   "id": "af66f485",
   "metadata": {},
   "outputs": [],
   "source": [
    "import pandas as pd"
   ]
  },
  {
   "cell_type": "code",
   "execution_count": 41,
   "id": "ce5de895",
   "metadata": {},
   "outputs": [
    {
     "data": {
      "text/html": [
       "<div>\n",
       "<style scoped>\n",
       "    .dataframe tbody tr th:only-of-type {\n",
       "        vertical-align: middle;\n",
       "    }\n",
       "\n",
       "    .dataframe tbody tr th {\n",
       "        vertical-align: top;\n",
       "    }\n",
       "\n",
       "    .dataframe thead th {\n",
       "        text-align: right;\n",
       "    }\n",
       "</style>\n",
       "<table border=\"1\" class=\"dataframe\">\n",
       "  <thead>\n",
       "    <tr style=\"text-align: right;\">\n",
       "      <th></th>\n",
       "      <th>0</th>\n",
       "      <th>1</th>\n",
       "      <th>2</th>\n",
       "    </tr>\n",
       "  </thead>\n",
       "  <tbody>\n",
       "    <tr>\n",
       "      <th>0</th>\n",
       "      <td>1</td>\n",
       "      <td>2</td>\n",
       "      <td>3</td>\n",
       "    </tr>\n",
       "    <tr>\n",
       "      <th>1</th>\n",
       "      <td>4</td>\n",
       "      <td>5</td>\n",
       "      <td>6</td>\n",
       "    </tr>\n",
       "  </tbody>\n",
       "</table>\n",
       "</div>"
      ],
      "text/plain": [
       "   0  1  2\n",
       "0  1  2  3\n",
       "1  4  5  6"
      ]
     },
     "execution_count": 41,
     "metadata": {},
     "output_type": "execute_result"
    }
   ],
   "source": [
    "df = pd.DataFrame(a2)\n",
    "df"
   ]
  },
  {
   "cell_type": "code",
   "execution_count": 42,
   "id": "c433a2cc",
   "metadata": {},
   "outputs": [],
   "source": [
    "ones = np.ones(shape =(10,2))"
   ]
  },
  {
   "cell_type": "code",
   "execution_count": 43,
   "id": "63579188",
   "metadata": {},
   "outputs": [
    {
     "data": {
      "text/plain": [
       "array([[1., 1.],\n",
       "       [1., 1.],\n",
       "       [1., 1.],\n",
       "       [1., 1.],\n",
       "       [1., 1.],\n",
       "       [1., 1.],\n",
       "       [1., 1.],\n",
       "       [1., 1.],\n",
       "       [1., 1.],\n",
       "       [1., 1.]])"
      ]
     },
     "execution_count": 43,
     "metadata": {},
     "output_type": "execute_result"
    }
   ],
   "source": [
    "ones"
   ]
  },
  {
   "cell_type": "code",
   "execution_count": 44,
   "id": "ee4e03d1",
   "metadata": {},
   "outputs": [],
   "source": [
    "zeros = np.zeros(shape=(7,2,3))"
   ]
  },
  {
   "cell_type": "code",
   "execution_count": 45,
   "id": "b7c46fd6",
   "metadata": {},
   "outputs": [
    {
     "data": {
      "text/plain": [
       "array([[[0., 0., 0.],\n",
       "        [0., 0., 0.]],\n",
       "\n",
       "       [[0., 0., 0.],\n",
       "        [0., 0., 0.]],\n",
       "\n",
       "       [[0., 0., 0.],\n",
       "        [0., 0., 0.]],\n",
       "\n",
       "       [[0., 0., 0.],\n",
       "        [0., 0., 0.]],\n",
       "\n",
       "       [[0., 0., 0.],\n",
       "        [0., 0., 0.]],\n",
       "\n",
       "       [[0., 0., 0.],\n",
       "        [0., 0., 0.]],\n",
       "\n",
       "       [[0., 0., 0.],\n",
       "        [0., 0., 0.]]])"
      ]
     },
     "execution_count": 45,
     "metadata": {},
     "output_type": "execute_result"
    }
   ],
   "source": [
    "zeros"
   ]
  },
  {
   "cell_type": "code",
   "execution_count": 47,
   "id": "3cfe0ceb",
   "metadata": {},
   "outputs": [
    {
     "data": {
      "text/plain": [
       "array([ 0,  3,  6,  9, 12, 15, 18, 21, 24, 27, 30, 33, 36, 39, 42, 45, 48,\n",
       "       51, 54, 57, 60, 63, 66, 69, 72, 75, 78, 81, 84, 87, 90, 93, 96, 99])"
      ]
     },
     "execution_count": 47,
     "metadata": {},
     "output_type": "execute_result"
    }
   ],
   "source": [
    "by_3s = np.arange(0,100,3)\n",
    "by_3s"
   ]
  },
  {
   "cell_type": "code",
   "execution_count": 48,
   "id": "3dcb72bd",
   "metadata": {},
   "outputs": [
    {
     "data": {
      "text/plain": [
       "array([[5, 7],\n",
       "       [8, 8],\n",
       "       [9, 2],\n",
       "       [7, 5],\n",
       "       [8, 3],\n",
       "       [1, 8],\n",
       "       [6, 1]])"
      ]
     },
     "execution_count": 48,
     "metadata": {},
     "output_type": "execute_result"
    }
   ],
   "source": [
    "random_1 = np.random.randint(0,10,size=(7,2))\n",
    "random_1"
   ]
  },
  {
   "cell_type": "code",
   "execution_count": 54,
   "id": "51e99499",
   "metadata": {},
   "outputs": [],
   "source": [
    "random_2 = np.random.random((3,5))"
   ]
  },
  {
   "cell_type": "code",
   "execution_count": 55,
   "id": "33fbc8b5",
   "metadata": {},
   "outputs": [
    {
     "data": {
      "text/plain": [
       "array([[0.05675975, 0.70054609, 0.84455361, 0.6909876 , 0.80707924],\n",
       "       [0.76937287, 0.36594826, 0.87483777, 0.49154581, 0.55839859],\n",
       "       [0.77615915, 0.23295042, 0.54964808, 0.87058127, 0.09415388]])"
      ]
     },
     "execution_count": 55,
     "metadata": {},
     "output_type": "execute_result"
    }
   ],
   "source": [
    "random_2"
   ]
  },
  {
   "cell_type": "code",
   "execution_count": 59,
   "id": "57e9b6bc",
   "metadata": {},
   "outputs": [
    {
     "data": {
      "text/plain": [
       "array([[6, 3, 7, 4, 6, 9],\n",
       "       [2, 6, 7, 4, 3, 7],\n",
       "       [7, 2, 5, 4, 1, 7],\n",
       "       [5, 1, 4, 0, 9, 5]])"
      ]
     },
     "execution_count": 59,
     "metadata": {},
     "output_type": "execute_result"
    }
   ],
   "source": [
    "np.random.seed(seed=42)\n",
    "# Create a random array of numbers between 0 & 10 of size (4, 6)\n",
    "random_3 = np.random.randint(0,10,size=(4,6))\n",
    "random_3"
   ]
  },
  {
   "cell_type": "code",
   "execution_count": 64,
   "id": "f97aff0b",
   "metadata": {},
   "outputs": [
    {
     "data": {
      "text/plain": [
       "array([[9, 7, 9, 8, 2, 1, 7],\n",
       "       [7, 8, 5, 3, 8, 6, 3],\n",
       "       [1, 3, 5, 3, 1, 5, 7]])"
      ]
     },
     "execution_count": 64,
     "metadata": {},
     "output_type": "execute_result"
    }
   ],
   "source": [
    "# Create an array of random numbers between 1 & 10 of size (3, 7)\n",
    "# and save it to a variable\n",
    "random_4 = np.random.randint(1,10,size=(3,7))\n",
    "random_4\n",
    "\n"
   ]
  },
  {
   "cell_type": "raw",
   "id": "ac5b73b6",
   "metadata": {},
   "source": [
    "# Find the unique numbers in the array you just created\n",
    "np.unique(random_4)"
   ]
  },
  {
   "cell_type": "code",
   "execution_count": 65,
   "id": "8f6171c7",
   "metadata": {},
   "outputs": [
    {
     "data": {
      "text/plain": [
       "array([9, 7, 9, 8, 2, 1, 7])"
      ]
     },
     "execution_count": 65,
     "metadata": {},
     "output_type": "execute_result"
    }
   ],
   "source": [
    "random_4[0]"
   ]
  },
  {
   "cell_type": "code",
   "execution_count": 69,
   "id": "1478d564",
   "metadata": {},
   "outputs": [
    {
     "data": {
      "text/plain": [
       "array([[9, 7, 9, 8, 2, 1, 7],\n",
       "       [7, 8, 5, 3, 8, 6, 3]])"
      ]
     },
     "execution_count": 69,
     "metadata": {},
     "output_type": "execute_result"
    }
   ],
   "source": [
    "# Get the first 2 rows of latest array you created\n",
    "random_4[:2]"
   ]
  },
  {
   "cell_type": "code",
   "execution_count": 74,
   "id": "e4d4ed91",
   "metadata": {},
   "outputs": [
    {
     "data": {
      "text/plain": [
       "array([[9, 7],\n",
       "       [7, 8]])"
      ]
     },
     "execution_count": 74,
     "metadata": {},
     "output_type": "execute_result"
    }
   ],
   "source": [
    "# Get the first 2 values of the first 2 rows of the latest array\n",
    "random_4[0:2,0:2]"
   ]
  },
  {
   "cell_type": "code",
   "execution_count": 77,
   "id": "58f920fd",
   "metadata": {},
   "outputs": [
    {
     "data": {
      "text/plain": [
       "array([[9, 7, 9, 8, 2],\n",
       "       [7, 8, 5, 3, 8],\n",
       "       [1, 3, 5, 3, 1]])"
      ]
     },
     "execution_count": 77,
     "metadata": {},
     "output_type": "execute_result"
    }
   ],
   "source": [
    "random_4[0:3,0:5]"
   ]
  },
  {
   "cell_type": "code",
   "execution_count": 83,
   "id": "01cdaf6d",
   "metadata": {},
   "outputs": [
    {
     "data": {
      "text/plain": [
       "(array([[1, 5, 6, 4, 0],\n",
       "        [0, 2, 1, 4, 9],\n",
       "        [5, 6, 3, 6, 7]]),\n",
       " array([[1., 1., 1., 1., 1.],\n",
       "        [1., 1., 1., 1., 1.],\n",
       "        [1., 1., 1., 1., 1.]]))"
      ]
     },
     "execution_count": 83,
     "metadata": {},
     "output_type": "execute_result"
    }
   ],
   "source": [
    "# Create a random array of numbers between 0 & 10 and an array of ones\n",
    "# both of size (3, 5), save them both to variables\n",
    "math_1 = np.random.randint(0,10,size=(3,5))\n",
    "math_2 = np.ones(shape=(3,5))\n",
    "math_1,math_2"
   ]
  },
  {
   "cell_type": "code",
   "execution_count": 84,
   "id": "5fb88a14",
   "metadata": {},
   "outputs": [
    {
     "data": {
      "text/plain": [
       "array([[ 2.,  6.,  7.,  5.,  1.],\n",
       "       [ 1.,  3.,  2.,  5., 10.],\n",
       "       [ 6.,  7.,  4.,  7.,  8.]])"
      ]
     },
     "execution_count": 84,
     "metadata": {},
     "output_type": "execute_result"
    }
   ],
   "source": [
    "math_1 + math_2"
   ]
  },
  {
   "cell_type": "code",
   "execution_count": 86,
   "id": "4ab030cb",
   "metadata": {},
   "outputs": [],
   "source": [
    "# Create another array of ones of shape (5, 3)\n",
    "math_3 = np.ones(shape=(5,3))"
   ]
  },
  {
   "cell_type": "code",
   "execution_count": 87,
   "id": "0e9c29fc",
   "metadata": {},
   "outputs": [
    {
     "ename": "ValueError",
     "evalue": "operands could not be broadcast together with shapes (3,5) (5,3) ",
     "output_type": "error",
     "traceback": [
      "\u001b[0;31m---------------------------------------------------------------------------\u001b[0m",
      "\u001b[0;31mValueError\u001b[0m                                Traceback (most recent call last)",
      "Cell \u001b[0;32mIn[87], line 1\u001b[0m\n\u001b[0;32m----> 1\u001b[0m \u001b[43mmath_1\u001b[49m\u001b[43m \u001b[49m\u001b[38;5;241;43m+\u001b[39;49m\u001b[43m \u001b[49m\u001b[43mmath_3\u001b[49m\n",
      "\u001b[0;31mValueError\u001b[0m: operands could not be broadcast together with shapes (3,5) (5,3) "
     ]
    }
   ],
   "source": [
    "math_1 + math_3"
   ]
  },
  {
   "cell_type": "code",
   "execution_count": 88,
   "id": "8fa68630",
   "metadata": {},
   "outputs": [
    {
     "data": {
      "text/plain": [
       "array([[ 2.,  6.,  7.,  5.,  1.],\n",
       "       [ 1.,  3.,  2.,  5., 10.],\n",
       "       [ 6.,  7.,  4.,  7.,  8.]])"
      ]
     },
     "execution_count": 88,
     "metadata": {},
     "output_type": "execute_result"
    }
   ],
   "source": [
    "math_1 + math_3.T"
   ]
  },
  {
   "cell_type": "code",
   "execution_count": 89,
   "id": "e2797477",
   "metadata": {},
   "outputs": [],
   "source": [
    "# Create another array of ones of shape (3, 5)\n",
    "again_1 = np.ones(shape=(3,5))"
   ]
  },
  {
   "cell_type": "code",
   "execution_count": 92,
   "id": "862a8320",
   "metadata": {},
   "outputs": [
    {
     "data": {
      "text/plain": [
       "array([[ 0.,  4.,  5.,  3., -1.],\n",
       "       [-1.,  1.,  0.,  3.,  8.],\n",
       "       [ 4.,  5.,  2.,  5.,  6.]])"
      ]
     },
     "execution_count": 92,
     "metadata": {},
     "output_type": "execute_result"
    }
   ],
   "source": [
    "# Subtract the new array of ones from the other most recent array\n",
    "math_1-again_1"
   ]
  },
  {
   "cell_type": "code",
   "execution_count": 93,
   "id": "c9a1bdc3",
   "metadata": {},
   "outputs": [
    {
     "data": {
      "text/plain": [
       "array([[1., 5., 6., 4., 0.],\n",
       "       [0., 2., 1., 4., 9.],\n",
       "       [5., 6., 3., 6., 7.]])"
      ]
     },
     "execution_count": 93,
     "metadata": {},
     "output_type": "execute_result"
    }
   ],
   "source": [
    "# Multiply the ones array with the latest array\n",
    "math_1 * again_1"
   ]
  },
  {
   "cell_type": "code",
   "execution_count": 94,
   "id": "37d127eb",
   "metadata": {},
   "outputs": [
    {
     "data": {
      "text/plain": [
       "array([[1., 1., 1., 1., 1.],\n",
       "       [1., 1., 1., 1., 1.],\n",
       "       [1., 1., 1., 1., 1.]])"
      ]
     },
     "execution_count": 94,
     "metadata": {},
     "output_type": "execute_result"
    }
   ],
   "source": [
    "# Take the latest array to the power of 2 using '**'\n",
    "again_1**2"
   ]
  },
  {
   "cell_type": "code",
   "execution_count": 95,
   "id": "f112fd07",
   "metadata": {},
   "outputs": [
    {
     "data": {
      "text/plain": [
       "array([[ 1, 25, 36, 16,  0],\n",
       "       [ 0,  4,  1, 16, 81],\n",
       "       [25, 36,  9, 36, 49]])"
      ]
     },
     "execution_count": 95,
     "metadata": {},
     "output_type": "execute_result"
    }
   ],
   "source": [
    "# Do the same thing with np.square()\n",
    "np.square(math_1)"
   ]
  },
  {
   "cell_type": "code",
   "execution_count": 96,
   "id": "2c5df8f4",
   "metadata": {},
   "outputs": [
    {
     "data": {
      "text/plain": [
       "3.933333333333333"
      ]
     },
     "execution_count": 96,
     "metadata": {},
     "output_type": "execute_result"
    }
   ],
   "source": [
    "# Find the mean of the latest array using np.mean()\n",
    "np.mean(math_1)"
   ]
  },
  {
   "cell_type": "code",
   "execution_count": 97,
   "id": "96bbc3a9",
   "metadata": {},
   "outputs": [
    {
     "data": {
      "text/plain": [
       "9"
      ]
     },
     "execution_count": 97,
     "metadata": {},
     "output_type": "execute_result"
    }
   ],
   "source": [
    "# Find the maximum of the latest array using np.max()\n",
    "np.max(math_1)"
   ]
  },
  {
   "cell_type": "code",
   "execution_count": 98,
   "id": "6bb809a0",
   "metadata": {},
   "outputs": [
    {
     "data": {
      "text/plain": [
       "0"
      ]
     },
     "execution_count": 98,
     "metadata": {},
     "output_type": "execute_result"
    }
   ],
   "source": [
    "# Find the minimum of the latest array using np.min()\n",
    "np.min(math_1)"
   ]
  },
  {
   "cell_type": "code",
   "execution_count": 99,
   "id": "54a32698",
   "metadata": {},
   "outputs": [
    {
     "data": {
      "text/plain": [
       "<function ndarray.std>"
      ]
     },
     "execution_count": 99,
     "metadata": {},
     "output_type": "execute_result"
    }
   ],
   "source": [
    "# Find the standard deviation of the latest array\n",
    "math_1.std"
   ]
  },
  {
   "cell_type": "code",
   "execution_count": 100,
   "id": "11bbc18b",
   "metadata": {},
   "outputs": [
    {
     "data": {
      "text/plain": [
       "2.619584360585133"
      ]
     },
     "execution_count": 100,
     "metadata": {},
     "output_type": "execute_result"
    }
   ],
   "source": [
    "np.std(math_1)"
   ]
  },
  {
   "cell_type": "code",
   "execution_count": 101,
   "id": "a5961de3",
   "metadata": {},
   "outputs": [
    {
     "data": {
      "text/plain": [
       "6.862222222222221"
      ]
     },
     "execution_count": 101,
     "metadata": {},
     "output_type": "execute_result"
    }
   ],
   "source": [
    "# Find the variance of the latest array\n",
    "np.var(math_1)"
   ]
  },
  {
   "cell_type": "code",
   "execution_count": 103,
   "id": "a1349628",
   "metadata": {},
   "outputs": [
    {
     "data": {
      "text/plain": [
       "array([[[1.],\n",
       "        [1.],\n",
       "        [1.],\n",
       "        [1.],\n",
       "        [1.]],\n",
       "\n",
       "       [[1.],\n",
       "        [1.],\n",
       "        [1.],\n",
       "        [1.],\n",
       "        [1.]],\n",
       "\n",
       "       [[1.],\n",
       "        [1.],\n",
       "        [1.],\n",
       "        [1.],\n",
       "        [1.]]])"
      ]
     },
     "execution_count": 103,
     "metadata": {},
     "output_type": "execute_result"
    }
   ],
   "source": [
    "# Reshape the latest array to (3, 5, 1)\n",
    "math_2.reshape(3,5,1)"
   ]
  },
  {
   "cell_type": "code",
   "execution_count": 104,
   "id": "53b9ba78",
   "metadata": {},
   "outputs": [
    {
     "data": {
      "text/plain": [
       "array([[1., 1., 1.],\n",
       "       [1., 1., 1.],\n",
       "       [1., 1., 1.],\n",
       "       [1., 1., 1.],\n",
       "       [1., 1., 1.]])"
      ]
     },
     "execution_count": 104,
     "metadata": {},
     "output_type": "execute_result"
    }
   ],
   "source": [
    "math_2.T"
   ]
  },
  {
   "cell_type": "code",
   "execution_count": 105,
   "id": "b1ae09b9",
   "metadata": {},
   "outputs": [
    {
     "data": {
      "text/plain": [
       "(array([[0, 5, 7],\n",
       "        [4, 3, 1],\n",
       "        [5, 5, 0]]),\n",
       " array([[8, 5],\n",
       "        [2, 3],\n",
       "        [3, 2]]))"
      ]
     },
     "execution_count": 105,
     "metadata": {},
     "output_type": "execute_result"
    }
   ],
   "source": [
    "# Create two arrays of random integers between 0 to 10\n",
    "# one of size (3, 3) the other of size (3, 2)\n",
    "more_1 = np.random.randint(0,10,size=(3,3))\n",
    "more_2 = np.random.randint(0,10,size=(3,2))\n",
    "more_1, more_2"
   ]
  },
  {
   "cell_type": "code",
   "execution_count": 106,
   "id": "7632efc6",
   "metadata": {},
   "outputs": [
    {
     "data": {
      "text/plain": [
       "array([[31, 29],\n",
       "       [41, 31],\n",
       "       [50, 40]])"
      ]
     },
     "execution_count": 106,
     "metadata": {},
     "output_type": "execute_result"
    }
   ],
   "source": [
    "# Perform a dot product on the two newest arrays you created\n",
    "more_1.dot(more_2)"
   ]
  },
  {
   "cell_type": "code",
   "execution_count": 107,
   "id": "2e552459",
   "metadata": {},
   "outputs": [],
   "source": [
    "# Create two arrays of random integers between 0 to 10\n",
    "# both of size (4, 3)\n",
    "ahhh_1 = np.random.randint(0,10,size=(4,3))\n",
    "ahhh_2 = np.random.randint(0,10,size=(4,3))"
   ]
  },
  {
   "cell_type": "code",
   "execution_count": 110,
   "id": "8b3835a1",
   "metadata": {},
   "outputs": [
    {
     "data": {
      "text/plain": [
       "array([[32, 39, 48, 78],\n",
       "       [72, 66, 69, 42],\n",
       "       [56, 71, 79, 64],\n",
       "       [64, 75, 81, 51]])"
      ]
     },
     "execution_count": 110,
     "metadata": {},
     "output_type": "execute_result"
    }
   ],
   "source": [
    "ahhh_1.dot(ahhh_2.T)"
   ]
  },
  {
   "cell_type": "code",
   "execution_count": 111,
   "id": "ea985d68",
   "metadata": {},
   "outputs": [],
   "source": [
    "# Create two arrays of random integers between 0 & 10 of the same shape\n",
    "# and save them to variables\n",
    "even_more_1 = np.random.randint(0,10,size=(3,5,6))\n",
    "even_more_2 =np.random.randint(0,10,size=(3,5,6))"
   ]
  },
  {
   "cell_type": "code",
   "execution_count": 112,
   "id": "54404470",
   "metadata": {},
   "outputs": [
    {
     "data": {
      "text/plain": [
       "array([[[1, 0, 4, 4, 6, 8],\n",
       "        [8, 2, 2, 2, 3, 7],\n",
       "        [5, 7, 0, 7, 3, 0],\n",
       "        [7, 3, 5, 7, 3, 2],\n",
       "        [8, 2, 8, 1, 1, 1]],\n",
       "\n",
       "       [[5, 2, 8, 3, 0, 3],\n",
       "        [0, 4, 3, 7, 7, 6],\n",
       "        [2, 0, 0, 2, 5, 6],\n",
       "        [5, 5, 5, 2, 5, 7],\n",
       "        [1, 4, 0, 0, 4, 2]],\n",
       "\n",
       "       [[3, 2, 0, 0, 4, 5],\n",
       "        [2, 8, 4, 7, 0, 4],\n",
       "        [2, 0, 3, 4, 6, 0],\n",
       "        [2, 1, 8, 9, 5, 9],\n",
       "        [2, 7, 7, 1, 5, 6]]])"
      ]
     },
     "execution_count": 112,
     "metadata": {},
     "output_type": "execute_result"
    }
   ],
   "source": [
    "even_more_1"
   ]
  },
  {
   "cell_type": "code",
   "execution_count": 113,
   "id": "dd466fe8",
   "metadata": {},
   "outputs": [
    {
     "data": {
      "text/plain": [
       "array([[[False, False,  True, False,  True,  True],\n",
       "        [ True, False, False, False, False,  True],\n",
       "        [False,  True, False, False, False, False],\n",
       "        [ True, False,  True,  True,  True, False],\n",
       "        [ True, False,  True, False, False, False]],\n",
       "\n",
       "       [[ True, False, False, False, False, False],\n",
       "        [False,  True, False, False,  True,  True],\n",
       "        [False, False, False, False,  True, False],\n",
       "        [ True, False,  True, False, False, False],\n",
       "        [False,  True, False, False,  True, False]],\n",
       "\n",
       "       [[ True, False, False, False, False, False],\n",
       "        [False,  True, False,  True, False, False],\n",
       "        [False, False,  True, False, False, False],\n",
       "        [False,  True,  True,  True, False,  True],\n",
       "        [False, False,  True, False, False, False]]])"
      ]
     },
     "execution_count": 113,
     "metadata": {},
     "output_type": "execute_result"
    }
   ],
   "source": [
    "# Compare the two arrays with '>'\n",
    "even_more_1 > even_more_2"
   ]
  },
  {
   "cell_type": "code",
   "execution_count": 114,
   "id": "4a06c8ca",
   "metadata": {},
   "outputs": [
    {
     "data": {
      "text/plain": [
       "array([[[ True, False,  True, False,  True,  True],\n",
       "        [ True, False, False, False, False,  True],\n",
       "        [False,  True, False, False, False, False],\n",
       "        [ True, False,  True,  True,  True, False],\n",
       "        [ True, False,  True,  True, False, False]],\n",
       "\n",
       "       [[ True, False, False, False, False, False],\n",
       "        [False,  True,  True, False,  True,  True],\n",
       "        [False,  True, False, False,  True,  True],\n",
       "        [ True,  True,  True,  True, False,  True],\n",
       "        [False,  True, False, False,  True, False]],\n",
       "\n",
       "       [[ True, False, False, False,  True, False],\n",
       "        [False,  True, False,  True,  True, False],\n",
       "        [False,  True,  True, False, False, False],\n",
       "        [False,  True,  True,  True,  True,  True],\n",
       "        [ True, False,  True, False,  True, False]]])"
      ]
     },
     "execution_count": 114,
     "metadata": {},
     "output_type": "execute_result"
    }
   ],
   "source": [
    "# Compare the two arrays with '>='\n",
    "even_more_1 >= even_more_2"
   ]
  },
  {
   "cell_type": "code",
   "execution_count": 115,
   "id": "411a16a4",
   "metadata": {},
   "outputs": [
    {
     "data": {
      "text/plain": [
       "array([[[False, False, False, False, False,  True],\n",
       "        [ True, False, False, False, False, False],\n",
       "        [False, False, False, False, False, False],\n",
       "        [False, False, False, False, False, False],\n",
       "        [ True, False,  True, False, False, False]],\n",
       "\n",
       "       [[False, False,  True, False, False, False],\n",
       "        [False, False, False, False, False, False],\n",
       "        [False, False, False, False, False, False],\n",
       "        [False, False, False, False, False, False],\n",
       "        [False, False, False, False, False, False]],\n",
       "\n",
       "       [[False, False, False, False, False, False],\n",
       "        [False,  True, False, False, False, False],\n",
       "        [False, False, False, False, False, False],\n",
       "        [False, False,  True,  True, False,  True],\n",
       "        [False, False, False, False, False, False]]])"
      ]
     },
     "execution_count": 115,
     "metadata": {},
     "output_type": "execute_result"
    }
   ],
   "source": [
    "# Find which elements of the first array are greater than 7\n",
    "even_more_1 >7"
   ]
  },
  {
   "cell_type": "code",
   "execution_count": 116,
   "id": "ea5dd831",
   "metadata": {},
   "outputs": [
    {
     "data": {
      "text/plain": [
       "array([[[ True, False, False, False, False, False],\n",
       "        [False, False, False, False, False, False],\n",
       "        [False, False, False, False, False, False],\n",
       "        [False, False, False, False, False, False],\n",
       "        [False, False, False,  True, False, False]],\n",
       "\n",
       "       [[False, False, False, False, False, False],\n",
       "        [False, False,  True, False, False, False],\n",
       "        [False,  True, False, False, False,  True],\n",
       "        [False,  True, False,  True, False,  True],\n",
       "        [False, False, False, False, False, False]],\n",
       "\n",
       "       [[False, False, False, False,  True, False],\n",
       "        [False, False, False, False,  True, False],\n",
       "        [False,  True, False, False, False, False],\n",
       "        [False, False, False, False,  True, False],\n",
       "        [ True, False, False, False,  True, False]]])"
      ]
     },
     "execution_count": 116,
     "metadata": {},
     "output_type": "execute_result"
    }
   ],
   "source": [
    "# Which parts of each array are equal? (try using '==')\n",
    "even_more_1 == even_more_2"
   ]
  },
  {
   "cell_type": "code",
   "execution_count": 118,
   "id": "a161c120",
   "metadata": {},
   "outputs": [
    {
     "data": {
      "text/plain": [
       "array([[[0, 1, 4, 4, 6, 8],\n",
       "        [2, 2, 2, 3, 7, 8],\n",
       "        [0, 0, 3, 5, 7, 7],\n",
       "        [2, 3, 3, 5, 7, 7],\n",
       "        [1, 1, 1, 2, 8, 8]],\n",
       "\n",
       "       [[0, 2, 3, 3, 5, 8],\n",
       "        [0, 3, 4, 6, 7, 7],\n",
       "        [0, 0, 2, 2, 5, 6],\n",
       "        [2, 5, 5, 5, 5, 7],\n",
       "        [0, 0, 1, 2, 4, 4]],\n",
       "\n",
       "       [[0, 0, 2, 3, 4, 5],\n",
       "        [0, 2, 4, 4, 7, 8],\n",
       "        [0, 0, 2, 3, 4, 6],\n",
       "        [1, 2, 5, 8, 9, 9],\n",
       "        [1, 2, 5, 6, 7, 7]]])"
      ]
     },
     "execution_count": 118,
     "metadata": {},
     "output_type": "execute_result"
    }
   ],
   "source": [
    "# Sort one of the arrays you just created in ascending order\n",
    "np.sort(even_more_1)"
   ]
  },
  {
   "cell_type": "code",
   "execution_count": 119,
   "id": "a6dde1f0",
   "metadata": {},
   "outputs": [
    {
     "data": {
      "text/plain": [
       "array([[[1, 0, 2, 3, 4, 5],\n",
       "        [1, 2, 3, 4, 5, 0],\n",
       "        [2, 5, 4, 0, 1, 3],\n",
       "        [5, 1, 4, 2, 0, 3],\n",
       "        [3, 4, 5, 1, 0, 2]],\n",
       "\n",
       "       [[4, 1, 3, 5, 0, 2],\n",
       "        [0, 2, 1, 5, 3, 4],\n",
       "        [1, 2, 0, 3, 4, 5],\n",
       "        [3, 0, 1, 2, 4, 5],\n",
       "        [2, 3, 0, 5, 1, 4]],\n",
       "\n",
       "       [[2, 3, 1, 0, 4, 5],\n",
       "        [4, 0, 2, 5, 3, 1],\n",
       "        [1, 5, 0, 2, 3, 4],\n",
       "        [1, 0, 4, 2, 3, 5],\n",
       "        [3, 0, 4, 5, 1, 2]]])"
      ]
     },
     "execution_count": 119,
     "metadata": {},
     "output_type": "execute_result"
    }
   ],
   "source": [
    "# Sort the indexes of one of the arrays you just created\n",
    "np.argsort(even_more_1)"
   ]
  },
  {
   "cell_type": "code",
   "execution_count": 120,
   "id": "fdc0c22a",
   "metadata": {},
   "outputs": [
    {
     "data": {
      "text/plain": [
       "81"
      ]
     },
     "execution_count": 120,
     "metadata": {},
     "output_type": "execute_result"
    }
   ],
   "source": [
    "# Find the index with the maximum value in one of the arrays you've created\n",
    "np.argmax(even_more_1)"
   ]
  },
  {
   "cell_type": "code",
   "execution_count": 122,
   "id": "e1f962eb",
   "metadata": {},
   "outputs": [
    {
     "data": {
      "text/plain": [
       "1"
      ]
     },
     "execution_count": 122,
     "metadata": {},
     "output_type": "execute_result"
    }
   ],
   "source": [
    "# Find the index with the minimum value in one of the arrays you've created\n",
    "np.argmin(even_more_1)"
   ]
  },
  {
   "cell_type": "code",
   "execution_count": 123,
   "id": "03037cfe",
   "metadata": {},
   "outputs": [
    {
     "data": {
      "text/plain": [
       "array([[1, 2, 4, 2, 0, 0],\n",
       "       [0, 3, 0, 1, 1, 3],\n",
       "       [0, 1, 3, 3, 2, 3]])"
      ]
     },
     "execution_count": 123,
     "metadata": {},
     "output_type": "execute_result"
    }
   ],
   "source": [
    "# Find the indexes with the maximum values down the 1st axis (axis=1)\n",
    "# of one of the arrays you created\n",
    "np.argmax(even_more_1,axis=1)"
   ]
  },
  {
   "cell_type": "code",
   "execution_count": 124,
   "id": "724fa8ee",
   "metadata": {},
   "outputs": [
    {
     "data": {
      "text/plain": [
       "array([[0, 0, 2, 2, 1, 1],\n",
       "       [1, 0, 0, 0, 2, 2],\n",
       "       [1, 1, 0, 1, 0, 0],\n",
       "       [2, 2, 0, 1, 0, 0],\n",
       "       [1, 0, 1, 1, 0, 0]])"
      ]
     },
     "execution_count": 124,
     "metadata": {},
     "output_type": "execute_result"
    }
   ],
   "source": [
    "# Find the indexes with the minimum values across the 0th axis (axis=0)\n",
    "# of one of the arrays you created\n",
    "np.argmin(even_more_1,axis=0)"
   ]
  },
  {
   "cell_type": "code",
   "execution_count": 127,
   "id": "c2613eea",
   "metadata": {},
   "outputs": [
    {
     "data": {
      "text/plain": [
       "array([[-0.68000433, -0.26340584, -0.28065488, -0.60397592, -0.54925291],\n",
       "       [ 1.09679625,  2.11311216, -0.49840662, -0.32439545,  0.524609  ],\n",
       "       [ 3.18703334,  0.08416352,  0.97263287,  1.54447484,  0.34406813]])"
      ]
     },
     "execution_count": 127,
     "metadata": {},
     "output_type": "execute_result"
    }
   ],
   "source": [
    "# Create an array of normally distributed random numbers\n",
    "np.random.randn(3, 5)"
   ]
  },
  {
   "cell_type": "code",
   "execution_count": 126,
   "id": "6fbca8be",
   "metadata": {},
   "outputs": [
    {
     "name": "stderr",
     "output_type": "stream",
     "text": [
      "/var/folders/2k/jf917mwj5qn53k_ygc5zs9h40000gn/T/ipykernel_99991/1200270474.py:2: DeprecationWarning: `np.int` is a deprecated alias for the builtin `int`. To silence this warning, use `int` by itself. Doing this will not modify any behavior and is safe. When replacing `np.int`, you may wish to use e.g. `np.int64` or `np.int32` to specify the precision. If you wish to review your current use, check the release note link for additional information.\n",
      "Deprecated in NumPy 1.20; for more details and guidance: https://numpy.org/devdocs/release/1.20.0-notes.html#deprecations\n",
      "  by_10s = np.int(1,100,10)\n"
     ]
    },
    {
     "ename": "TypeError",
     "evalue": "int() takes at most 2 arguments (3 given)",
     "output_type": "error",
     "traceback": [
      "\u001b[0;31m---------------------------------------------------------------------------\u001b[0m",
      "\u001b[0;31mTypeError\u001b[0m                                 Traceback (most recent call last)",
      "Cell \u001b[0;32mIn[126], line 2\u001b[0m\n\u001b[1;32m      1\u001b[0m \u001b[38;5;66;03m# Create an array with 10 evenly spaced numbers between 1 and 100\u001b[39;00m\n\u001b[0;32m----> 2\u001b[0m by_10s \u001b[38;5;241m=\u001b[39m \u001b[43mnp\u001b[49m\u001b[38;5;241;43m.\u001b[39;49m\u001b[43mint\u001b[49m\u001b[43m(\u001b[49m\u001b[38;5;241;43m1\u001b[39;49m\u001b[43m,\u001b[49m\u001b[38;5;241;43m100\u001b[39;49m\u001b[43m,\u001b[49m\u001b[38;5;241;43m10\u001b[39;49m\u001b[43m)\u001b[49m\n\u001b[1;32m      3\u001b[0m by_10s\n",
      "\u001b[0;31mTypeError\u001b[0m: int() takes at most 2 arguments (3 given)"
     ]
    }
   ],
   "source": [
    "# Create an array with 10 evenly spaced numbers between 1 and 100\n",
    "by_10s = np.\n",
    "by_10s"
   ]
  },
  {
   "cell_type": "code",
   "execution_count": 128,
   "id": "6d6d62bb",
   "metadata": {},
   "outputs": [
    {
     "data": {
      "text/plain": [
       "array([  1.,  12.,  23.,  34.,  45.,  56.,  67.,  78.,  89., 100.])"
      ]
     },
     "execution_count": 128,
     "metadata": {},
     "output_type": "execute_result"
    }
   ],
   "source": [
    "np.linspace(1, 100, 10)"
   ]
  },
  {
   "cell_type": "code",
   "execution_count": null,
   "id": "1c8f90f4",
   "metadata": {},
   "outputs": [],
   "source": []
  }
 ],
 "metadata": {
  "kernelspec": {
   "display_name": "Python 3 (ipykernel)",
   "language": "python",
   "name": "python3"
  },
  "language_info": {
   "codemirror_mode": {
    "name": "ipython",
    "version": 3
   },
   "file_extension": ".py",
   "mimetype": "text/x-python",
   "name": "python",
   "nbconvert_exporter": "python",
   "pygments_lexer": "ipython3",
   "version": "3.10.9"
  }
 },
 "nbformat": 4,
 "nbformat_minor": 5
}
